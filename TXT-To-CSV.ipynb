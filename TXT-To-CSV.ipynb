{
 "cells": [
  {
   "cell_type": "markdown",
   "metadata": {},
   "source": [
    "# TXT to CSV (Emails from DL to Structured CSV converter)\n",
    "\n",
    "format of input emails:"
   ]
  },
  {
   "cell_type": "raw",
   "metadata": {},
   "source": [
    "FirstName1 Surname1 /<email1>; FirstName2 Surname2 /<email2>; ..."
   ]
  },
  {
   "cell_type": "code",
   "execution_count": 27,
   "metadata": {
    "collapsed": true
   },
   "outputs": [],
   "source": [
    "import csv"
   ]
  },
  {
   "cell_type": "code",
   "execution_count": 28,
   "metadata": {
    "collapsed": true
   },
   "outputs": [],
   "source": [
    "Path_File_Name = 'D:/Prod Emails/Emails.txt'\n",
    "List_Columns =['First Name', 'Surname', 'Email']"
   ]
  },
  {
   "cell_type": "code",
   "execution_count": 36,
   "metadata": {
    "scrolled": true
   },
   "outputs": [
    {
     "data": {
      "text/plain": [
       "['Aaron Ward <Aaron.Ward@melbournewater.com.au>',\n",
       " 'Adrian Mazzarella <adrian.mazzarella@melbournewater.com.au>',\n",
       " 'Alexandra Rowan <Alexandra.Rowan@melbournewater.com.au>',\n",
       " 'Amanda Hazell <Amanda.Hazell@melbournewater.com.au>',\n",
       " 'Andre De Castro <Andre.DeCastro@melbournewater.com.au>',\n",
       " 'Andrew Buchanan <andrew.buchanan@melbournewater.com.au>',\n",
       " 'Andrew Hardie <andrew.hardie@melbournewater.com.au>',\n",
       " 'Anisha de Almeida <Anisha.deAlmeida@melbournewater.com.au>',\n",
       " 'Anita Steele <Anita.Steele@melbournewater.com.au>',\n",
       " 'Anthony Bright <Anthony.Bright@melbournewater.com.au>',\n",
       " 'Beatrice Clarke <Beatrice.Clarke@melbournewater.com.au>',\n",
       " 'Caroline Hussey <Caroline.Hussey@melbournewater.com.au>',\n",
       " 'Chamila Withana <Chamila.Withana@melbournewater.com.au>',\n",
       " 'Cheryl Edwards <Cheryl.Edwards@melbournewater.com.au>',\n",
       " 'Chris Phutully <Chris.Phutully@melbournewater.com.au>',\n",
       " 'Dale Wishart <Dale.Wishart@melbournewater.com.au>',\n",
       " 'Darsh Dalal <Darsh.Dalal@melbournewater.com.au>',\n",
       " 'David White <David.White3@melbournewater.com.au>',\n",
       " 'Dawit Abate <Dawit.Abate@melbournewater.com.au>',\n",
       " 'Dee Orgill <dee.orgill@melbournewater.com.au>',\n",
       " 'Deepak Joshi <deepak.joshi@melbournewater.com.au>',\n",
       " 'Eddie Santos <eddie.santos@melbournewater.com.au>',\n",
       " 'Ellen Tao <Ellen.Tao@melbournewater.com.au>',\n",
       " 'Gary Anderson <gary.anderson@melbournewater.com.au>',\n",
       " 'Gregory Seear <Gregory.Seear@melbournewater.com.au>',\n",
       " 'Hannah Kelly <Hannah.Kelly@melbournewater.com.au>',\n",
       " 'Heather Graham <Heather.Graham@melbournewater.com.au>',\n",
       " 'Imogen Darby <imogen.darby@melbournewater.com.au>',\n",
       " 'Inge Lederer <Inge.Lederer@melbournewater.com.au>',\n",
       " 'Irina Tchourilov <Irina.Tchourilov@melbournewater.com.au>',\n",
       " 'Jackie Moss <Jackie.Moss@melbournewater.com.au>',\n",
       " 'James Lloyd <james.lloyd@melbournewater.com.au>',\n",
       " 'James Morgan <james.morgan@melbournewater.com.au>',\n",
       " 'Jamilla Hull <Jamilla.Hull@melbournewater.com.au>',\n",
       " 'Jason Whittle <Jason.Whittle@melbournewater.com.au>',\n",
       " 'Jessica Hellier <Jessica.Hellier@melbournewater.com.au>',\n",
       " 'Joel Segal <Joel.Segal@melbournewater.com.au>',\n",
       " 'John De Boer <john.deboer@melbournewater.com.au>',\n",
       " 'John Mieog <John.Mieog@melbournewater.com.au>',\n",
       " 'Judy Johny <Judy.Johny@melbournewater.com.au>',\n",
       " 'Karla Vaughan <Karla.Vaughan@melbournewater.com.au>',\n",
       " 'Kathy Cinque <kathy.cinque@melbournewater.com.au>',\n",
       " 'Kevin Hellier <Kevin.Hellier@melbournewater.com.au>',\n",
       " 'Leonie Williams <Leonie.Williams@melbournewater.com.au>',\n",
       " 'Lisa Solomon <Lisa.Solomon@melbournewater.com.au>',\n",
       " 'Marcus Mulcare <Marcus.Mulcare@melbournewater.com.au>',\n",
       " 'Martina De Zilva <Martina.DeZilva@melbournewater.com.au>',\n",
       " 'Mary Daaboul <Mary.Daaboul@melbournewater.com.au>',\n",
       " 'Matthew Daley <Matthew.Daley@melbournewater.com.au>',\n",
       " 'Melita Stevens <melita.stevens@melbournewater.com.au>',\n",
       " 'Michelle Wotten <michelle.wotten@melbournewater.com.au>',\n",
       " 'Monica Tewman <Monica.Tewman@melbournewater.com.au>',\n",
       " 'MW_Support SRA <mw_support@sra.com.au>',\n",
       " 'Nataly Orr <Nataly.Orr@melbournewater.com.au>',\n",
       " 'Nick Crosbie <Nick.Crosbie@melbournewater.com.au>',\n",
       " 'Nick Stuart <Nick.Stuart@melbournewater.com.au>',\n",
       " 'Nick Zisis <nick.zisis@alsglobal.com>',\n",
       " 'Nigel Garson <Nigel.Garson@melbournewater.com.au>',\n",
       " 'Paul Rees <Paul.Rees@melbournewater.com.au>',\n",
       " 'Peter Edwards <peter.edwards@melbournewater.com.au>',\n",
       " \"Peter O'Bree <Peter.OBree@melbournewater.com.au>\",\n",
       " 'Phil Brier <Phil.Brier@melbournewater.com.au>',\n",
       " 'Philip Wilkie <Philip.Wilkie@melbournewater.com.au>',\n",
       " 'Priya Crawford-Wilson <priya.crawford-wilson@melbournewater.com.au>',\n",
       " 'Priya Rajan <Priya.Rajan@melbournewater.com.au>',\n",
       " 'Rachael Hart <rachael.hart@melbournewater.com.au>',\n",
       " 'Ravindran Appathurai <Ravindran.Appathurai@melbournewater.com.au>',\n",
       " 'Rene Van der Sant <Rene.VanderSant@melbournewater.com.au>',\n",
       " 'Renee Lucas <Renee.Lucas@melbournewater.com.au>',\n",
       " 'Richard Akers <richard.akers@melbournewater.com.au>',\n",
       " 'Richard Lovett <Richard.Lovett@melbournewater.com.au>',\n",
       " 'Russell Whipp <russell.whipp@melbournewater.com.au>',\n",
       " 'Sabine Schreiber <Sabine.Schreiber@melbournewater.com.au>',\n",
       " 'Sarah Gaskill <Sarah.Gaskill@melbournewater.com.au>',\n",
       " 'Sophie Bourgues <sophie.bourgues@melbournewater.com.au>',\n",
       " 'Stephen Millard <Stephen.Millard@melbournewater.com.au>',\n",
       " 'Suelin Haynes <Suelin.Haynes@melbournewater.com.au>',\n",
       " 'Suzanne Bill <Suzanne.Bill@melbournewater.com.au>',\n",
       " 'Thilini Malalasekera <Thilini.Malalasekera@melbournewater.com.au>',\n",
       " 'Tiana Preston <Tiana.Preston@melbournewater.com.au>',\n",
       " 'Toby Prosser <Toby.Prosser@melbournewater.com.au>',\n",
       " 'Tohi Otimi <Tohi.Otimi@melbournewater.com.au>',\n",
       " 'Tommie Conway <Tommie.Conway@melbournewater.com.au>',\n",
       " 'Tony Ross <Tony.Ross@melbournewater.com.au>',\n",
       " 'Trevor Gulovsen <trevor.gulovsen@melbournewater.com.au>',\n",
       " 'Trish Grant <trish.grant@melbournewater.com.au>',\n",
       " 'Vishal Vinayak <Vishal.Vinayak@melbournewater.com.au>',\n",
       " 'Yvonne Cabuang <Yvonne.Cabuang@melbournewater.com.au>',\n",
       " 'Zoltan Kelly <Zoltan.Kelly@melbournewater.com.au>']"
      ]
     },
     "execution_count": 36,
     "metadata": {},
     "output_type": "execute_result"
    }
   ],
   "source": [
    "file = open(Path_File_Name, 'r', encoding = \"utf-8\")\n",
    "Text = str('')\n",
    "for x in file:\n",
    "    Text= Text + x\n",
    "Rows_List = Text.split('; ')\n",
    "Rows_List"
   ]
  },
  {
   "cell_type": "code",
   "execution_count": 48,
   "metadata": {},
   "outputs": [
    {
     "name": "stdout",
     "output_type": "stream",
     "text": [
      "Ward\n",
      "Mazzarella\n",
      "Rowan\n",
      "Hazell\n",
      "De Castro\n",
      "Buchanan\n",
      "Hardie\n",
      "de Almeida\n",
      "Steele\n",
      "Bright\n",
      "Clarke\n",
      "Hussey\n",
      "Withana\n",
      "Edwards\n",
      "Phutully\n",
      "Wishart\n",
      "Dalal\n",
      "White\n",
      "Abate\n",
      "Orgill\n",
      "Joshi\n",
      "Santos\n",
      "Tao\n",
      "Anderson\n",
      "Seear\n",
      "Kelly\n",
      "Graham\n",
      "Darby\n",
      "Lederer\n",
      "Tchourilov\n",
      "Moss\n",
      "Lloyd\n",
      "Morgan\n",
      "Hull\n",
      "Whittle\n",
      "Hellier\n",
      "Segal\n",
      "De Boer\n",
      "Mieog\n",
      "Johny\n",
      "Vaughan\n",
      "Cinque\n",
      "Hellier\n",
      "Williams\n",
      "Solomon\n",
      "Mulcare\n",
      "De Zilva\n",
      "Daaboul\n",
      "Daley\n",
      "Stevens\n",
      "Wotten\n",
      "Tewman\n",
      "SRA\n",
      "Orr\n",
      "Crosbie\n",
      "Stuart\n",
      "Zisis\n",
      "Garson\n",
      "Rees\n",
      "Edwards\n",
      "O'Bree\n",
      "Brier\n",
      "Wilkie\n",
      "Crawford-Wilson\n",
      "Rajan\n",
      "Hart\n",
      "Appathurai\n",
      "Van der Sant\n",
      "Lucas\n",
      "Akers\n",
      "Lovett\n",
      "Whipp\n",
      "Schreiber\n",
      "Gaskill\n",
      "Bourgues\n",
      "Millard\n",
      "Haynes\n",
      "Bill\n",
      "Malalasekera\n",
      "Preston\n",
      "Prosser\n",
      "Otimi\n",
      "Conway\n",
      "Ross\n",
      "Gulovsen\n",
      "Grant\n",
      "Vinayak\n",
      "Cabuang\n",
      "Kelly\n"
     ]
    }
   ],
   "source": [
    "for x in Rows_List:\n",
    "    Temp_List = x.split(\" \",1)\n",
    "    Fname_Str = Temp_List[0]\n",
    "    Temp_List2 = Temp_List[1].split(' <')\n",
    "    Surname_Str = Temp_List2[0]\n",
    "    Email_Str = Temp_List2[-1].replace(\">\", \"\")\n",
    "\n",
    "\n",
    "    \n"
   ]
  },
  {
   "cell_type": "code",
   "execution_count": null,
   "metadata": {
    "collapsed": true
   },
   "outputs": [],
   "source": [
    "List_Row_Report = [filename, Int_Total_Rows, Int_Dup_Rows, Int_Retest_Rows, Int_QA_Rows, Int_Bad_SPTz]\n",
    "df_Temp_Report = pd.DataFrame([List_Row_Report], columns=List_Columns)\n",
    "df_Report = df_Report.append(df_Temp_Report, ignore_index=True)"
   ]
  },
  {
   "cell_type": "code",
   "execution_count": null,
   "metadata": {
    "collapsed": true
   },
   "outputs": [],
   "source": [
    "Report_path_filename = Output_path_Report + 'Report.xlsx'\n",
    "writer = pd.ExcelWriter(Report_path_filename)\n",
    "df_Report.to_excel(writer,'Sheet1')\n",
    "writer.save()"
   ]
  }
 ],
 "metadata": {
  "kernelspec": {
   "display_name": "Python 3",
   "language": "python",
   "name": "python3"
  },
  "language_info": {
   "codemirror_mode": {
    "name": "ipython",
    "version": 3
   },
   "file_extension": ".py",
   "mimetype": "text/x-python",
   "name": "python",
   "nbconvert_exporter": "python",
   "pygments_lexer": "ipython3",
   "version": "3.5.3"
  }
 },
 "nbformat": 4,
 "nbformat_minor": 2
}
