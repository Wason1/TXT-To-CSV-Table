{
 "cells": [
  {
   "cell_type": "markdown",
   "metadata": {},
   "source": [
    "# TXT to CSV (Emails from DL to Structured CSV converter)\n",
    "\n",
    "format of input emails:"
   ]
  },
  {
   "cell_type": "raw",
   "metadata": {},
   "source": [
    "FirstName1 Surname1 /<email1>; FirstName2 Surname2 /<email2>; ..."
   ]
  },
  {
   "cell_type": "code",
   "execution_count": 19,
   "metadata": {
    "collapsed": true
   },
   "outputs": [],
   "source": [
    "import csv\n",
    "import pandas as pd"
   ]
  },
  {
   "cell_type": "code",
   "execution_count": 20,
   "metadata": {
    "collapsed": true
   },
   "outputs": [],
   "source": [
    "Path_File_Name = 'D:/FILES/Emails.txt'\n",
    "List_Columns =['First Name', 'Surname', 'Email']\n",
    "Output_path_CSV = 'D:/FILES/'"
   ]
  },
  {
   "cell_type": "code",
   "execution_count": 21,
   "metadata": {
    "scrolled": true
   },
   "outputs": [
    {
     "data": {
      "text/plain": [
       "['Aaron Ward <Aaron.Ward@melbournewater.com.au>',\n",
       " 'Adrian Mazzarella <adrian.mazzarella@melbournewater.com.au>',\n",
       " 'Alexandra Rowan <Alexandra.Rowan@melbournewater.com.au>',\n",
       " 'Amanda Hazell <Amanda.Hazell@melbournewater.com.au>',\n",
       " 'Andre De Castro <Andre.DeCastro@melbournewater.com.au>']"
      ]
     },
     "execution_count": 21,
     "metadata": {},
     "output_type": "execute_result"
    }
   ],
   "source": [
    "file = open(Path_File_Name, 'r', encoding = \"utf-8\")\n",
    "Text = str('')\n",
    "for x in file:\n",
    "    Text= Text + x\n",
    "Rows_List = Text.split('; ')\n",
    "Rows_List[:5]"
   ]
  },
  {
   "cell_type": "code",
   "execution_count": 22,
   "metadata": {},
   "outputs": [],
   "source": [
    "#Create an Empty Dataframe for CSV File\n",
    "df_Emails = pd.DataFrame(columns=List_Columns)\n",
    "\n",
    "\n",
    "for x in Rows_List:\n",
    "    Temp_List = x.split(\" \",1)\n",
    "    Fname_Str = Temp_List[0]\n",
    "    Temp_List2 = Temp_List[1].split(' <')\n",
    "    Surname_Str = Temp_List2[0]\n",
    "    Email_Str = Temp_List2[-1].replace(\">\", \"\")\n",
    "    Row_List = [Fname_Str, Surname_Str, Email_Str]\n",
    "    df_Temp_Report = pd.DataFrame([Row_List], columns=List_Columns)\n",
    "    df_Emails = df_Emails.append(df_Temp_Report, ignore_index=True)  \n"
   ]
  },
  {
   "cell_type": "code",
   "execution_count": 25,
   "metadata": {
    "collapsed": true
   },
   "outputs": [
    {
     "name": "stdout",
     "output_type": "stream",
     "text": [
      "Output File is here D:/FILES/Emails.csv\n",
      "Done\n"
     ]
    }
   ],
   "source": [
    "Report_path_filename = Output_path_CSV + 'Emails.csv'\n",
    "df_Emails.to_csv(path_or_buf = Report_path_filename)\n",
    "print('Output File is here', Report_path_filename)\n",
    "print('Done')"
   ]
  }
 ],
 "metadata": {
  "kernelspec": {
   "display_name": "Python 3",
   "language": "python",
   "name": "python3"
  },
  "language_info": {
   "codemirror_mode": {
    "name": "ipython",
    "version": 3
   },
   "file_extension": ".py",
   "mimetype": "text/x-python",
   "name": "python",
   "nbconvert_exporter": "python",
   "pygments_lexer": "ipython3",
   "version": "3.6.5"
  }
 },
 "nbformat": 4,
 "nbformat_minor": 2
}
