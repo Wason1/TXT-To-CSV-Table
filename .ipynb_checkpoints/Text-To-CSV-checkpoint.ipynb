{
 "cells": [
  {
   "cell_type": "markdown",
   "metadata": {},
   "source": [
    "# Text to CSV (Emails from DL to Structured CSV converter)\n",
    "\n",
    "format of input emails:"
   ]
  },
  {
   "cell_type": "raw",
   "metadata": {},
   "source": [
    "FirstName1 Surname1 /<email1>; FirstName2 Surname2 /<email2>; ..."
   ]
  },
  {
   "cell_type": "code",
   "execution_count": 11,
   "metadata": {
    "collapsed": true
   },
   "outputs": [],
   "source": [
    "import csv\n",
    "import pandas as pd"
   ]
  },
  {
   "cell_type": "code",
   "execution_count": 12,
   "metadata": {
    "collapsed": true
   },
   "outputs": [],
   "source": [
    "List_Columns =['First Name', 'Surname', 'Email']\n",
    "Output_path_CSV = 'D:/'"
   ]
  },
  {
   "cell_type": "code",
   "execution_count": 13,
   "metadata": {
    "scrolled": true
   },
   "outputs": [
    {
     "data": {
      "text/plain": [
       "['eerom Werd <eerom.Werd@somemail.com>',\n",
       " 'edriem Mezzerekke <edriem.mezzerekke@somemail.com>',\n",
       " 'ekexemdre Rowem <ekexemdre.Rowem@somemail.com>',\n",
       " 'ememde Hezekk <ememde.Hezekk@somemail.com>',\n",
       " 'emdre De Cestro <emdre.DeCestro@somemail.com>']"
      ]
     },
     "execution_count": 13,
     "metadata": {},
     "output_type": "execute_result"
    }
   ],
   "source": [
    "Text = input('Paste your text in here: ')\n",
    "Text = str(Text)\n",
    "Rows_List = Text.split('; ')\n",
    "Rows_List[:5]"
   ]
  },
  {
   "cell_type": "code",
   "execution_count": 14,
   "metadata": {},
   "outputs": [],
   "source": [
    "#Create an Empty Dataframe for CSV File\n",
    "df_Emails = pd.DataFrame(columns=List_Columns)\n",
    "\n",
    "\n",
    "for x in Rows_List:\n",
    "    Temp_List = x.split(\" \",1)\n",
    "    Fname_Str = Temp_List[0]\n",
    "    Temp_List2 = Temp_List[1].split(' <')\n",
    "    Surname_Str = Temp_List2[0]\n",
    "    Email_Str = Temp_List2[-1].replace(\">\", \"\")\n",
    "    Row_List = [Fname_Str, Surname_Str, Email_Str]\n",
    "    df_Temp_Report = pd.DataFrame([Row_List], columns=List_Columns)\n",
    "    df_Emails = df_Emails.append(df_Temp_Report, ignore_index=True)  \n"
   ]
  },
  {
   "cell_type": "code",
   "execution_count": 15,
   "metadata": {
    "collapsed": true
   },
   "outputs": [
    {
     "name": "stdout",
     "output_type": "stream",
     "text": [
      "Output File is here D:/Emails.csv\n",
      "Done\n"
     ]
    }
   ],
   "source": [
    "Report_path_filename = Output_path_CSV + 'Emails.csv'\n",
    "df_Emails.to_csv(path_or_buf = Report_path_filename)\n",
    "print('Output File is here', Report_path_filename)\n",
    "print('Done')"
   ]
  },
  {
   "cell_type": "code",
   "execution_count": null,
   "metadata": {},
   "outputs": [],
   "source": []
  }
 ],
 "metadata": {
  "kernelspec": {
   "display_name": "Python 3",
   "language": "python",
   "name": "python3"
  },
  "language_info": {
   "codemirror_mode": {
    "name": "ipython",
    "version": 3
   },
   "file_extension": ".py",
   "mimetype": "text/x-python",
   "name": "python",
   "nbconvert_exporter": "python",
   "pygments_lexer": "ipython3",
   "version": "3.6.5"
  }
 },
 "nbformat": 4,
 "nbformat_minor": 2
}
